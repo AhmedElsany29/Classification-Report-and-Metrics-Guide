{
 "cells": [
  {
   "cell_type": "markdown",
   "id": "82763b79",
   "metadata": {
    "papermill": {
     "duration": 0.004503,
     "end_time": "2025-05-16T14:35:11.798011",
     "exception": false,
     "start_time": "2025-05-16T14:35:11.793508",
     "status": "completed"
    },
    "tags": []
   },
   "source": [
    "## About This Data and Evaluation Metrics\n",
    "\n",
    "### About the Data\n",
    "This dataset is related to breast cancer classification. Each row represents a patient, and the features describe characteristics of the cell nuclei present in the image. The target variable (`y`) indicates whether the tumor is **malignant (0)** or **benign (1)**.\n",
    "\n",
    "### What is a Confusion Matrix?\n",
    "A **confusion matrix** is a table used to evaluate the performance of a classification model.  \n",
    "- Each row represents the actual class.\n",
    "- Each column represents the predicted class.\n",
    "- The diagonal values (from top-left to bottom-right) are the correct predictions.\n",
    "- The off-diagonal values are the misclassifications.\n",
    "\n",
    "### Why Are These Metrics Important?\n",
    "- **Accuracy** gives an overall idea of performance, but can be misleading if classes are imbalanced.\n",
    "- **Precision** is important when the cost of a false positive is high.\n",
    "- **Recall** is important when the cost of a false negative is high (e.g., missing a cancer diagnosis).\n",
    "- **F1 Score** is useful when you want a balance between precision and recall.\n"
   ]
  },
  {
   "cell_type": "markdown",
   "id": "adaecd4d",
   "metadata": {
    "papermill": {
     "duration": 0.003832,
     "end_time": "2025-05-16T14:35:11.805796",
     "exception": false,
     "start_time": "2025-05-16T14:35:11.801964",
     "status": "completed"
    },
    "tags": []
   },
   "source": [
    "### Importing Libraries"
   ]
  },
  {
   "cell_type": "code",
   "execution_count": 1,
   "id": "c6faf66a",
   "metadata": {
    "execution": {
     "iopub.execute_input": "2025-05-16T14:35:11.815146Z",
     "iopub.status.busy": "2025-05-16T14:35:11.814635Z",
     "iopub.status.idle": "2025-05-16T14:35:17.533603Z",
     "shell.execute_reply": "2025-05-16T14:35:17.531908Z"
    },
    "papermill": {
     "duration": 5.726158,
     "end_time": "2025-05-16T14:35:17.535933",
     "exception": false,
     "start_time": "2025-05-16T14:35:11.809775",
     "status": "completed"
    },
    "tags": []
   },
   "outputs": [],
   "source": [
    "import pandas as pd\n",
    "import numpy as np\n",
    "\n",
    "# from sklearn.datasets import load_iris\n",
    "from sklearn import datasets\n",
    "from sklearn.model_selection import train_test_split\n",
    "from sklearn.tree import DecisionTreeClassifier\n",
    "from sklearn.preprocessing import StandardScaler\n",
    "from sklearn.metrics import accuracy_score"
   ]
  },
  {
   "cell_type": "code",
   "execution_count": 2,
   "id": "2a0c3755",
   "metadata": {
    "execution": {
     "iopub.execute_input": "2025-05-16T14:35:17.549181Z",
     "iopub.status.busy": "2025-05-16T14:35:17.547933Z",
     "iopub.status.idle": "2025-05-16T14:35:17.577411Z",
     "shell.execute_reply": "2025-05-16T14:35:17.575898Z"
    },
    "papermill": {
     "duration": 0.038617,
     "end_time": "2025-05-16T14:35:17.579555",
     "exception": false,
     "start_time": "2025-05-16T14:35:17.540938",
     "status": "completed"
    },
    "tags": []
   },
   "outputs": [
    {
     "data": {
      "text/plain": [
       "((569, 30), (569,))"
      ]
     },
     "execution_count": 2,
     "metadata": {},
     "output_type": "execute_result"
    }
   ],
   "source": [
    "X, y = datasets.load_breast_cancer(return_X_y=True)\n",
    "X.shape, y.shape"
   ]
  },
  {
   "cell_type": "code",
   "execution_count": 3,
   "id": "db590afb",
   "metadata": {
    "execution": {
     "iopub.execute_input": "2025-05-16T14:35:17.589422Z",
     "iopub.status.busy": "2025-05-16T14:35:17.589042Z",
     "iopub.status.idle": "2025-05-16T14:35:17.597087Z",
     "shell.execute_reply": "2025-05-16T14:35:17.595959Z"
    },
    "papermill": {
     "duration": 0.015733,
     "end_time": "2025-05-16T14:35:17.599394",
     "exception": false,
     "start_time": "2025-05-16T14:35:17.583661",
     "status": "completed"
    },
    "tags": []
   },
   "outputs": [
    {
     "name": "stdout",
     "output_type": "stream",
     "text": [
      "[0 1] [212 357]\n"
     ]
    }
   ],
   "source": [
    "unique_vals, counts = np.unique(y, return_counts=True)\n",
    "print(unique_vals, counts)"
   ]
  },
  {
   "cell_type": "code",
   "execution_count": 4,
   "id": "6427dffe",
   "metadata": {
    "execution": {
     "iopub.execute_input": "2025-05-16T14:35:17.613410Z",
     "iopub.status.busy": "2025-05-16T14:35:17.613043Z",
     "iopub.status.idle": "2025-05-16T14:35:17.650291Z",
     "shell.execute_reply": "2025-05-16T14:35:17.649040Z"
    },
    "papermill": {
     "duration": 0.047389,
     "end_time": "2025-05-16T14:35:17.652544",
     "exception": false,
     "start_time": "2025-05-16T14:35:17.605155",
     "status": "completed"
    },
    "tags": []
   },
   "outputs": [],
   "source": [
    "scaler = StandardScaler()\n",
    "X_scaler = scaler.fit_transform(X)"
   ]
  },
  {
   "cell_type": "code",
   "execution_count": 5,
   "id": "eac13900",
   "metadata": {
    "execution": {
     "iopub.execute_input": "2025-05-16T14:35:17.667005Z",
     "iopub.status.busy": "2025-05-16T14:35:17.666068Z",
     "iopub.status.idle": "2025-05-16T14:35:17.676479Z",
     "shell.execute_reply": "2025-05-16T14:35:17.675191Z"
    },
    "papermill": {
     "duration": 0.020308,
     "end_time": "2025-05-16T14:35:17.678253",
     "exception": false,
     "start_time": "2025-05-16T14:35:17.657945",
     "status": "completed"
    },
    "tags": []
   },
   "outputs": [
    {
     "data": {
      "text/plain": [
       "((455, 30), (114, 30), (455,), (114,))"
      ]
     },
     "execution_count": 5,
     "metadata": {},
     "output_type": "execute_result"
    }
   ],
   "source": [
    "X_train, X_test, y_train, y_test = train_test_split(\n",
    "    X_scaler, y, test_size=0.2, random_state=42\n",
    ")\n",
    "X_train.shape, X_test.shape, y_train.shape, y_test.shape"
   ]
  },
  {
   "cell_type": "markdown",
   "id": "e4d8474b",
   "metadata": {
    "papermill": {
     "duration": 0.003687,
     "end_time": "2025-05-16T14:35:17.686128",
     "exception": false,
     "start_time": "2025-05-16T14:35:17.682441",
     "status": "completed"
    },
    "tags": []
   },
   "source": [
    "### Building a Model for Prediction"
   ]
  },
  {
   "cell_type": "code",
   "execution_count": 6,
   "id": "fcfb2bc6",
   "metadata": {
    "execution": {
     "iopub.execute_input": "2025-05-16T14:35:17.696674Z",
     "iopub.status.busy": "2025-05-16T14:35:17.696388Z",
     "iopub.status.idle": "2025-05-16T14:35:17.723976Z",
     "shell.execute_reply": "2025-05-16T14:35:17.721898Z"
    },
    "papermill": {
     "duration": 0.036225,
     "end_time": "2025-05-16T14:35:17.726959",
     "exception": false,
     "start_time": "2025-05-16T14:35:17.690734",
     "status": "completed"
    },
    "tags": []
   },
   "outputs": [
    {
     "data": {
      "text/html": [
       "<style>#sk-container-id-1 {color: black;background-color: white;}#sk-container-id-1 pre{padding: 0;}#sk-container-id-1 div.sk-toggleable {background-color: white;}#sk-container-id-1 label.sk-toggleable__label {cursor: pointer;display: block;width: 100%;margin-bottom: 0;padding: 0.3em;box-sizing: border-box;text-align: center;}#sk-container-id-1 label.sk-toggleable__label-arrow:before {content: \"▸\";float: left;margin-right: 0.25em;color: #696969;}#sk-container-id-1 label.sk-toggleable__label-arrow:hover:before {color: black;}#sk-container-id-1 div.sk-estimator:hover label.sk-toggleable__label-arrow:before {color: black;}#sk-container-id-1 div.sk-toggleable__content {max-height: 0;max-width: 0;overflow: hidden;text-align: left;background-color: #f0f8ff;}#sk-container-id-1 div.sk-toggleable__content pre {margin: 0.2em;color: black;border-radius: 0.25em;background-color: #f0f8ff;}#sk-container-id-1 input.sk-toggleable__control:checked~div.sk-toggleable__content {max-height: 200px;max-width: 100%;overflow: auto;}#sk-container-id-1 input.sk-toggleable__control:checked~label.sk-toggleable__label-arrow:before {content: \"▾\";}#sk-container-id-1 div.sk-estimator input.sk-toggleable__control:checked~label.sk-toggleable__label {background-color: #d4ebff;}#sk-container-id-1 div.sk-label input.sk-toggleable__control:checked~label.sk-toggleable__label {background-color: #d4ebff;}#sk-container-id-1 input.sk-hidden--visually {border: 0;clip: rect(1px 1px 1px 1px);clip: rect(1px, 1px, 1px, 1px);height: 1px;margin: -1px;overflow: hidden;padding: 0;position: absolute;width: 1px;}#sk-container-id-1 div.sk-estimator {font-family: monospace;background-color: #f0f8ff;border: 1px dotted black;border-radius: 0.25em;box-sizing: border-box;margin-bottom: 0.5em;}#sk-container-id-1 div.sk-estimator:hover {background-color: #d4ebff;}#sk-container-id-1 div.sk-parallel-item::after {content: \"\";width: 100%;border-bottom: 1px solid gray;flex-grow: 1;}#sk-container-id-1 div.sk-label:hover label.sk-toggleable__label {background-color: #d4ebff;}#sk-container-id-1 div.sk-serial::before {content: \"\";position: absolute;border-left: 1px solid gray;box-sizing: border-box;top: 0;bottom: 0;left: 50%;z-index: 0;}#sk-container-id-1 div.sk-serial {display: flex;flex-direction: column;align-items: center;background-color: white;padding-right: 0.2em;padding-left: 0.2em;position: relative;}#sk-container-id-1 div.sk-item {position: relative;z-index: 1;}#sk-container-id-1 div.sk-parallel {display: flex;align-items: stretch;justify-content: center;background-color: white;position: relative;}#sk-container-id-1 div.sk-item::before, #sk-container-id-1 div.sk-parallel-item::before {content: \"\";position: absolute;border-left: 1px solid gray;box-sizing: border-box;top: 0;bottom: 0;left: 50%;z-index: -1;}#sk-container-id-1 div.sk-parallel-item {display: flex;flex-direction: column;z-index: 1;position: relative;background-color: white;}#sk-container-id-1 div.sk-parallel-item:first-child::after {align-self: flex-end;width: 50%;}#sk-container-id-1 div.sk-parallel-item:last-child::after {align-self: flex-start;width: 50%;}#sk-container-id-1 div.sk-parallel-item:only-child::after {width: 0;}#sk-container-id-1 div.sk-dashed-wrapped {border: 1px dashed gray;margin: 0 0.4em 0.5em 0.4em;box-sizing: border-box;padding-bottom: 0.4em;background-color: white;}#sk-container-id-1 div.sk-label label {font-family: monospace;font-weight: bold;display: inline-block;line-height: 1.2em;}#sk-container-id-1 div.sk-label-container {text-align: center;}#sk-container-id-1 div.sk-container {/* jupyter's `normalize.less` sets `[hidden] { display: none; }` but bootstrap.min.css set `[hidden] { display: none !important; }` so we also need the `!important` here to be able to override the default hidden behavior on the sphinx rendered scikit-learn.org. See: https://github.com/scikit-learn/scikit-learn/issues/21755 */display: inline-block !important;position: relative;}#sk-container-id-1 div.sk-text-repr-fallback {display: none;}</style><div id=\"sk-container-id-1\" class=\"sk-top-container\"><div class=\"sk-text-repr-fallback\"><pre>DecisionTreeClassifier(random_state=42)</pre><b>In a Jupyter environment, please rerun this cell to show the HTML representation or trust the notebook. <br />On GitHub, the HTML representation is unable to render, please try loading this page with nbviewer.org.</b></div><div class=\"sk-container\" hidden><div class=\"sk-item\"><div class=\"sk-estimator sk-toggleable\"><input class=\"sk-toggleable__control sk-hidden--visually\" id=\"sk-estimator-id-1\" type=\"checkbox\" checked><label for=\"sk-estimator-id-1\" class=\"sk-toggleable__label sk-toggleable__label-arrow\">DecisionTreeClassifier</label><div class=\"sk-toggleable__content\"><pre>DecisionTreeClassifier(random_state=42)</pre></div></div></div></div></div>"
      ],
      "text/plain": [
       "DecisionTreeClassifier(random_state=42)"
      ]
     },
     "execution_count": 6,
     "metadata": {},
     "output_type": "execute_result"
    }
   ],
   "source": [
    "clf = DecisionTreeClassifier(random_state=42)\n",
    "clf.fit(X_train, y_train)"
   ]
  },
  {
   "cell_type": "code",
   "execution_count": 7,
   "id": "0d81b289",
   "metadata": {
    "execution": {
     "iopub.execute_input": "2025-05-16T14:35:17.737789Z",
     "iopub.status.busy": "2025-05-16T14:35:17.737467Z",
     "iopub.status.idle": "2025-05-16T14:35:17.745179Z",
     "shell.execute_reply": "2025-05-16T14:35:17.744191Z"
    },
    "papermill": {
     "duration": 0.016668,
     "end_time": "2025-05-16T14:35:17.748170",
     "exception": false,
     "start_time": "2025-05-16T14:35:17.731502",
     "status": "completed"
    },
    "tags": []
   },
   "outputs": [],
   "source": [
    "y_pred = clf.predict(X_test)\n",
    "accuracy_test = accuracy_score(y_test, y_pred)"
   ]
  },
  {
   "cell_type": "markdown",
   "id": "ed6cb0b4",
   "metadata": {
    "papermill": {
     "duration": 0.004379,
     "end_time": "2025-05-16T14:35:17.758106",
     "exception": false,
     "start_time": "2025-05-16T14:35:17.753727",
     "status": "completed"
    },
    "tags": []
   },
   "source": [
    "## Model Evaluation"
   ]
  },
  {
   "cell_type": "code",
   "execution_count": 8,
   "id": "4ed04c67",
   "metadata": {
    "execution": {
     "iopub.execute_input": "2025-05-16T14:35:17.769679Z",
     "iopub.status.busy": "2025-05-16T14:35:17.768824Z",
     "iopub.status.idle": "2025-05-16T14:35:17.776848Z",
     "shell.execute_reply": "2025-05-16T14:35:17.775908Z"
    },
    "papermill": {
     "duration": 0.015436,
     "end_time": "2025-05-16T14:35:17.778586",
     "exception": false,
     "start_time": "2025-05-16T14:35:17.763150",
     "status": "completed"
    },
    "tags": []
   },
   "outputs": [
    {
     "name": "stdout",
     "output_type": "stream",
     "text": [
      "Accuracy: 0.947\n"
     ]
    }
   ],
   "source": [
    "accuracy_train = accuracy_score(y_test, y_pred)\n",
    "print(f\"Accuracy: {accuracy_train:.3f}\")"
   ]
  },
  {
   "cell_type": "markdown",
   "id": "95bff001",
   "metadata": {
    "papermill": {
     "duration": 0.004354,
     "end_time": "2025-05-16T14:35:17.787983",
     "exception": false,
     "start_time": "2025-05-16T14:35:17.783629",
     "status": "completed"
    },
    "tags": []
   },
   "source": [
    "### Classification Report"
   ]
  },
  {
   "cell_type": "code",
   "execution_count": 9,
   "id": "7300288a",
   "metadata": {
    "execution": {
     "iopub.execute_input": "2025-05-16T14:35:17.801287Z",
     "iopub.status.busy": "2025-05-16T14:35:17.800896Z",
     "iopub.status.idle": "2025-05-16T14:35:17.818355Z",
     "shell.execute_reply": "2025-05-16T14:35:17.817129Z"
    },
    "papermill": {
     "duration": 0.027688,
     "end_time": "2025-05-16T14:35:17.820673",
     "exception": false,
     "start_time": "2025-05-16T14:35:17.792985",
     "status": "completed"
    },
    "tags": []
   },
   "outputs": [
    {
     "name": "stdout",
     "output_type": "stream",
     "text": [
      "              precision    recall  f1-score   support\n",
      "\n",
      "           0       0.93      0.93      0.93        43\n",
      "           1       0.96      0.96      0.96        71\n",
      "\n",
      "    accuracy                           0.95       114\n",
      "   macro avg       0.94      0.94      0.94       114\n",
      "weighted avg       0.95      0.95      0.95       114\n",
      "\n"
     ]
    }
   ],
   "source": [
    "from sklearn.metrics import classification_report, confusion_matrix\n",
    "\n",
    "print(classification_report(y_test, y_pred))"
   ]
  },
  {
   "cell_type": "markdown",
   "id": "18848413",
   "metadata": {
    "papermill": {
     "duration": 0.004089,
     "end_time": "2025-05-16T14:35:17.830155",
     "exception": false,
     "start_time": "2025-05-16T14:35:17.826066",
     "status": "completed"
    },
    "tags": []
   },
   "source": [
    "## Each Label (Class) Performance\n",
    "\n",
    "### Class 0 (Malignant) 🟥\n",
    "\n",
    "- **Precision = 0.93**  \n",
    "  → Out of all predictions where the model said \"0\" (malignant), **93% were actually malignant**.\n",
    "- **Recall = 0.93**  \n",
    "  → Out of all actual malignant cases, **93% were correctly identified** by the model.\n",
    "- **F1-score = 0.93**  \n",
    "  → This is the harmonic mean of precision and recall, summarizing the model's ability to both find and correctly label malignant cases.\n",
    "- **Support = 43**  \n",
    "  → There were **43 actual malignant cases** in the test set.\n",
    "\n",
    "### Class 1 (Benign) 🟩\n",
    "\n",
    "- **Precision = 0.96**  \n",
    "  → Out of all predictions where the model said \"1\" (benign), **96% were actually benign**.\n",
    "- **Recall = 0.96**  \n",
    "  → Out of all actual benign cases, **96% were correctly identified** by the model.\n",
    "- **F1-score = 0.96**  \n",
    "  → This value combines precision and recall for benign cases.\n",
    "- **Support = 71**  \n",
    "  → There were **71 actual benign cases** in the test set.\n",
    "\n",
    "---\n",
    "\n",
    "**Interpretation:**  \n",
    "- The model performs very well for both classes, with high precision and recall.\n",
    "- The confusion matrix above visually confirms that the model makes very few mistakes (only 3 false positives and 3 false negatives).\n",
    "- These metrics show the model is reliable for both detecting malignant and benign tumors.\n",
    "\n"
   ]
  },
  {
   "cell_type": "markdown",
   "id": "dba9df10",
   "metadata": {
    "papermill": {
     "duration": 0.004041,
     "end_time": "2025-05-16T14:35:17.838413",
     "exception": false,
     "start_time": "2025-05-16T14:35:17.834372",
     "status": "completed"
    },
    "tags": []
   },
   "source": [
    "### Confuision Matrix"
   ]
  },
  {
   "cell_type": "code",
   "execution_count": 10,
   "id": "30d79626",
   "metadata": {
    "execution": {
     "iopub.execute_input": "2025-05-16T14:35:17.848539Z",
     "iopub.status.busy": "2025-05-16T14:35:17.848207Z",
     "iopub.status.idle": "2025-05-16T14:35:17.860540Z",
     "shell.execute_reply": "2025-05-16T14:35:17.859243Z"
    },
    "papermill": {
     "duration": 0.02023,
     "end_time": "2025-05-16T14:35:17.862884",
     "exception": false,
     "start_time": "2025-05-16T14:35:17.842654",
     "status": "completed"
    },
    "tags": []
   },
   "outputs": [
    {
     "data": {
      "text/plain": [
       "array([[40,  3],\n",
       "       [ 3, 68]])"
      ]
     },
     "execution_count": 10,
     "metadata": {},
     "output_type": "execute_result"
    }
   ],
   "source": [
    "cm = confusion_matrix(y_test, y_pred)\n",
    "cm"
   ]
  },
  {
   "cell_type": "code",
   "execution_count": 11,
   "id": "b0a08d00",
   "metadata": {
    "execution": {
     "iopub.execute_input": "2025-05-16T14:35:17.874569Z",
     "iopub.status.busy": "2025-05-16T14:35:17.874265Z",
     "iopub.status.idle": "2025-05-16T14:35:18.975228Z",
     "shell.execute_reply": "2025-05-16T14:35:18.974169Z"
    },
    "papermill": {
     "duration": 1.108393,
     "end_time": "2025-05-16T14:35:18.976971",
     "exception": false,
     "start_time": "2025-05-16T14:35:17.868578",
     "status": "completed"
    },
    "tags": []
   },
   "outputs": [
    {
     "data": {
      "image/png": "[encoded data removed]",
      "text/plain": [
       "<Figure size 800x500 with 2 Axes>"
      ]
     },
     "metadata": {},
     "output_type": "display_data"
    }
   ],
   "source": [
    "import matplotlib.pyplot as plt\n",
    "import seaborn as sns\n",
    "\n",
    "\n",
    "plt.figure(figsize=(8, 5))\n",
    "sns.heatmap(cm, annot=True, fmt=\"d\", cmap=\"rocket\")\n",
    "plt.xlabel(\"Predicted\")\n",
    "plt.ylabel(\"True\")\n",
    "plt.title(\"Confusion Matrix\")\n",
    "plt.show()"
   ]
  },
  {
   "cell_type": "markdown",
   "id": "d97a03f0",
   "metadata": {
    "papermill": {
     "duration": 0.004466,
     "end_time": "2025-05-16T14:35:18.986387",
     "exception": false,
     "start_time": "2025-05-16T14:35:18.981921",
     "status": "completed"
    },
    "tags": []
   },
   "source": [
    "\n",
    "For example, in the matrix above:\n",
    "- **40**: True Negatives (class 0 correctly predicted as 0)\n",
    "- **68**: True Positives (class 1 correctly predicted as 1)\n",
    "- **3**: False Positives (class 0 incorrectly predicted as 1)\n",
    "- **3**: False Negatives (class 1 incorrectly predicted as 0)\n",
    "\n",
    "### What Do the Metrics Mean?\n",
    "In the code, we calculate four important metrics to evaluate the model:\n",
    "\n",
    "- **Accuracy**:  \n",
    "  The percentage of total correct predictions (both classes) out of all predictions.  \n",
    "  `Accuracy = (TP + TN) / (TP + TN + FP + FN)`\n",
    "\n",
    "- **Precision**:  \n",
    "  Of all the samples predicted as positive (class 1), how many were actually positive?  \n",
    "  `Precision = TP / (TP + FP)`\n",
    "\n",
    "- **Recall**:  \n",
    "  Of all the actual positive samples, how many did the model correctly identify?  \n",
    "  `Recall = TP / (TP + FN)`\n",
    "\n",
    "- **F1 Score**:  \n",
    "  The harmonic mean of precision and recall. It balances the two metrics.  \n",
    "  `F1 = 2 * (Precision * Recall) / (Precision + Recall)`\n"
   ]
  },
  {
   "cell_type": "code",
   "execution_count": 12,
   "id": "63cfd586",
   "metadata": {
    "execution": {
     "iopub.execute_input": "2025-05-16T14:35:18.997352Z",
     "iopub.status.busy": "2025-05-16T14:35:18.996855Z",
     "iopub.status.idle": "2025-05-16T14:35:19.004217Z",
     "shell.execute_reply": "2025-05-16T14:35:19.003012Z"
    },
    "papermill": {
     "duration": 0.014887,
     "end_time": "2025-05-16T14:35:19.006005",
     "exception": false,
     "start_time": "2025-05-16T14:35:18.991118",
     "status": "completed"
    },
    "tags": []
   },
   "outputs": [
    {
     "name": "stdout",
     "output_type": "stream",
     "text": [
      "True Positives: 68\n",
      "True Negatives: 40\n",
      "False Positives: 3\n",
      "False Negatives: 3\n"
     ]
    }
   ],
   "source": [
    "tp, tn, fp, fn = cm[1, 1], cm[0, 0], cm[0, 1], cm[1, 0]\n",
    "print(f\"True Positives: {tp}\")\n",
    "print(f\"True Negatives: {tn}\")\n",
    "print(f\"False Positives: {fp}\")\n",
    "print(f\"False Negatives: {fn}\")"
   ]
  },
  {
   "cell_type": "code",
   "execution_count": 13,
   "id": "1e249100",
   "metadata": {
    "execution": {
     "iopub.execute_input": "2025-05-16T14:35:19.019255Z",
     "iopub.status.busy": "2025-05-16T14:35:19.018777Z",
     "iopub.status.idle": "2025-05-16T14:35:19.036567Z",
     "shell.execute_reply": "2025-05-16T14:35:19.035149Z"
    },
    "papermill": {
     "duration": 0.027086,
     "end_time": "2025-05-16T14:35:19.038475",
     "exception": false,
     "start_time": "2025-05-16T14:35:19.011389",
     "status": "completed"
    },
    "tags": []
   },
   "outputs": [
    {
     "name": "stdout",
     "output_type": "stream",
     "text": [
      "Accuracy: 0.947\n",
      "Precision: 0.958\n",
      "Recall: 0.958\n",
      "F1 Score: 0.958\n"
     ]
    }
   ],
   "source": [
    "from sklearn.metrics import accuracy_score, precision_score, recall_score, f1_score\n",
    "\n",
    "metrics = ['accuracy', 'precision_score', 'recall_score', 'f1_score']\n",
    "\n",
    "for metric in metrics:\n",
    "    \n",
    "    if metric == 'accuracy':\n",
    "        accuracy_score = accuracy_score(y_test, y_pred)\n",
    "        print(f\"Accuracy: {accuracy_score:.3f}\")\n",
    "        \n",
    "    elif metric == 'precision_score':\n",
    "        precision_scor = precision_score(y_test, y_pred)\n",
    "        print(f\"Precision: {precision_scor:.3f}\")\n",
    "\n",
    "    elif metric == \"recall_score\":\n",
    "        recall_score = recall_score(y_test, y_pred)\n",
    "        print(f\"Recall: {recall_score:.3f}\")\n",
    "        \n",
    "    elif metric == \"f1_score\":\n",
    "        f1_score = f1_score(y_test, y_pred)\n",
    "        print(f\"F1 Score: {f1_score:.3f}\")\n",
    "        "
   ]
  },
  {
   "cell_type": "markdown",
   "id": "efd8515c",
   "metadata": {
    "papermill": {
     "duration": 0.006153,
     "end_time": "2025-05-16T14:35:19.049717",
     "exception": false,
     "start_time": "2025-05-16T14:35:19.043564",
     "status": "completed"
    },
    "tags": []
   },
   "source": [
    "---\n",
    "\n",
    "## ⭐ Hope you enjoyed this Notebook!  \n",
    "### 🙏 Your <span style=\"color:#e63946; font-weight:bold; text-transform: uppercase;\">upvotes</span> & <span style=\"color:#1d3557; font-weight:bold;\">comments</span> mean a lot! 💬❤️\n",
    "\n",
    "---\n"
   ]
  }
 ],
 "metadata": {
  "kaggle": {
   "accelerator": "none",
   "dataSources": [],
   "dockerImageVersionId": 31040,
   "isGpuEnabled": false,
   "isInternetEnabled": true,
   "language": "python",
   "sourceType": "notebook"
  },
  "kernelspec": {
   "display_name": "Python 3",
   "language": "python",
   "name": "python3"
  },
  "language_info": {
   "codemirror_mode": {
    "name": "ipython",
    "version": 3
   },
   "file_extension": ".py",
   "mimetype": "text/x-python",
   "name": "python",
   "nbconvert_exporter": "python",
   "pygments_lexer": "ipython3",
   "version": "3.11.11"
  },
  "papermill": {
   "default_parameters": {},
   "duration": 13.933339,
   "end_time": "2025-05-16T14:35:19.876993",
   "environment_variables": {},
   "exception": null,
   "input_path": "__notebook__.ipynb",
   "output_path": "__notebook__.ipynb",
   "parameters": {},
   "start_time": "2025-05-16T14:35:05.943654",
   "version": "2.6.0"
  }
 },
 "nbformat": 4,
 "nbformat_minor": 5
}
